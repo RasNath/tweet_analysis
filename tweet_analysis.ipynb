{
 "cells": [
  {
   "cell_type": "markdown",
   "metadata": {},
   "source": [
    "# Tweet Analysis Notebook"
   ]
  },
  {
   "cell_type": "markdown",
   "metadata": {},
   "source": [
    "### Things to look at:\n",
    "\n",
    "* Key words: which words could contribute to more retweets/favorites/replies?\n",
    "\n",
    "* Hashtags: Does adding hashtags contribute to more retweets/favorites/replies?\n",
    "\n",
    "* Tags: Could tagging specific people contribute to more retweets/favorites/replies?"
   ]
  },
  {
   "cell_type": "code",
   "execution_count": 1,
   "metadata": {},
   "outputs": [],
   "source": [
    "%matplotlib inline\n",
    "\n",
    "import numpy as np\n",
    "import pandas as pd\n",
    "import matplotlib.pyplot as plt\n",
    "import src.tweet_func as t\n",
    "plt.style.use('ggplot')"
   ]
  },
  {
   "cell_type": "markdown",
   "metadata": {},
   "source": [
    "## Read in the data"
   ]
  },
  {
   "cell_type": "code",
   "execution_count": 2,
   "metadata": {},
   "outputs": [],
   "source": [
    "df = pd.read_csv('data/senators.csv', encoding = \"ISO-8859-1\")"
   ]
  },
  {
   "cell_type": "code",
   "execution_count": 3,
   "metadata": {},
   "outputs": [
    {
     "data": {
      "text/plain": [
       "(288615, 10)"
      ]
     },
     "execution_count": 3,
     "metadata": {},
     "output_type": "execute_result"
    }
   ],
   "source": [
    "df.shape"
   ]
  },
  {
   "cell_type": "code",
   "execution_count": 4,
   "metadata": {},
   "outputs": [
    {
     "data": {
      "text/html": [
       "<div>\n",
       "<style scoped>\n",
       "    .dataframe tbody tr th:only-of-type {\n",
       "        vertical-align: middle;\n",
       "    }\n",
       "\n",
       "    .dataframe tbody tr th {\n",
       "        vertical-align: top;\n",
       "    }\n",
       "\n",
       "    .dataframe thead th {\n",
       "        text-align: right;\n",
       "    }\n",
       "</style>\n",
       "<table border=\"1\" class=\"dataframe\">\n",
       "  <thead>\n",
       "    <tr style=\"text-align: right;\">\n",
       "      <th></th>\n",
       "      <th>created_at</th>\n",
       "      <th>text</th>\n",
       "      <th>url</th>\n",
       "      <th>replies</th>\n",
       "      <th>retweets</th>\n",
       "      <th>favorites</th>\n",
       "      <th>user</th>\n",
       "      <th>bioguide_id</th>\n",
       "      <th>party</th>\n",
       "      <th>state</th>\n",
       "    </tr>\n",
       "  </thead>\n",
       "  <tbody>\n",
       "    <tr>\n",
       "      <th>0</th>\n",
       "      <td>10/19/17 21:47</td>\n",
       "      <td>We released bipartisan healthcare bill today &amp;...</td>\n",
       "      <td>https://twitter.com/amyklobuchar/status/921130...</td>\n",
       "      <td>21</td>\n",
       "      <td>129</td>\n",
       "      <td>533</td>\n",
       "      <td>amyklobuchar</td>\n",
       "      <td>K000367</td>\n",
       "      <td>D</td>\n",
       "      <td>MN</td>\n",
       "    </tr>\n",
       "    <tr>\n",
       "      <th>1</th>\n",
       "      <td>10/19/17 18:48</td>\n",
       "      <td>I spoke with @Morning_Joe team abt #HonestAds ...</td>\n",
       "      <td>https://twitter.com/amyklobuchar/status/921085...</td>\n",
       "      <td>8</td>\n",
       "      <td>46</td>\n",
       "      <td>150</td>\n",
       "      <td>amyklobuchar</td>\n",
       "      <td>K000367</td>\n",
       "      <td>D</td>\n",
       "      <td>MN</td>\n",
       "    </tr>\n",
       "    <tr>\n",
       "      <th>2</th>\n",
       "      <td>10/19/17 18:14</td>\n",
       "      <td>Lots of interest in my bill with Senators Warn...</td>\n",
       "      <td>https://twitter.com/amyklobuchar/status/921077...</td>\n",
       "      <td>36</td>\n",
       "      <td>227</td>\n",
       "      <td>932</td>\n",
       "      <td>amyklobuchar</td>\n",
       "      <td>K000367</td>\n",
       "      <td>D</td>\n",
       "      <td>MN</td>\n",
       "    </tr>\n",
       "    <tr>\n",
       "      <th>3</th>\n",
       "      <td>10/19/17 18:04</td>\n",
       "      <td>Today's the day @MarkWarner, @SenJohnMcCain &amp;a...</td>\n",
       "      <td>https://twitter.com/amyklobuchar/status/921074...</td>\n",
       "      <td>17</td>\n",
       "      <td>167</td>\n",
       "      <td>550</td>\n",
       "      <td>amyklobuchar</td>\n",
       "      <td>K000367</td>\n",
       "      <td>D</td>\n",
       "      <td>MN</td>\n",
       "    </tr>\n",
       "    <tr>\n",
       "      <th>4</th>\n",
       "      <td>10/19/17 16:33</td>\n",
       "      <td>.@MarkWarner, @SenJohnMcCain &amp;amp; I put toget...</td>\n",
       "      <td>https://twitter.com/amyklobuchar/status/921051...</td>\n",
       "      <td>31</td>\n",
       "      <td>279</td>\n",
       "      <td>893</td>\n",
       "      <td>amyklobuchar</td>\n",
       "      <td>K000367</td>\n",
       "      <td>D</td>\n",
       "      <td>MN</td>\n",
       "    </tr>\n",
       "  </tbody>\n",
       "</table>\n",
       "</div>"
      ],
      "text/plain": [
       "       created_at                                               text  \\\n",
       "0  10/19/17 21:47  We released bipartisan healthcare bill today &...   \n",
       "1  10/19/17 18:48  I spoke with @Morning_Joe team abt #HonestAds ...   \n",
       "2  10/19/17 18:14  Lots of interest in my bill with Senators Warn...   \n",
       "3  10/19/17 18:04  Today's the day @MarkWarner, @SenJohnMcCain &a...   \n",
       "4  10/19/17 16:33  .@MarkWarner, @SenJohnMcCain &amp; I put toget...   \n",
       "\n",
       "                                                 url  replies  retweets  \\\n",
       "0  https://twitter.com/amyklobuchar/status/921130...       21       129   \n",
       "1  https://twitter.com/amyklobuchar/status/921085...        8        46   \n",
       "2  https://twitter.com/amyklobuchar/status/921077...       36       227   \n",
       "3  https://twitter.com/amyklobuchar/status/921074...       17       167   \n",
       "4  https://twitter.com/amyklobuchar/status/921051...       31       279   \n",
       "\n",
       "   favorites          user bioguide_id party state  \n",
       "0        533  amyklobuchar     K000367     D    MN  \n",
       "1        150  amyklobuchar     K000367     D    MN  \n",
       "2        932  amyklobuchar     K000367     D    MN  \n",
       "3        550  amyklobuchar     K000367     D    MN  \n",
       "4        893  amyklobuchar     K000367     D    MN  "
      ]
     },
     "execution_count": 4,
     "metadata": {},
     "output_type": "execute_result"
    }
   ],
   "source": [
    "df.head()"
   ]
  },
  {
   "cell_type": "code",
   "execution_count": 5,
   "metadata": {},
   "outputs": [
    {
     "name": "stdout",
     "output_type": "stream",
     "text": [
      "created_at\n",
      "text\n",
      "url\n",
      "replies\n",
      "retweets\n",
      "favorites\n",
      "user\n",
      "bioguide_id\n",
      "party\n",
      "state\n"
     ]
    }
   ],
   "source": [
    "for column in df.columns:\n",
    "    print(column)"
   ]
  },
  {
   "cell_type": "code",
   "execution_count": 44,
   "metadata": {},
   "outputs": [],
   "source": [
    "df = pd.read_csv('data/senators.csv', encoding = \"ISO-8859-1\")\n",
    "# tweets_df = df.copy()[['text']][:50] # only take 50 for now\n",
    "df.rename(columns={\"text\": \"tweets\"}, inplace=True)\n",
    "retweets_df = df.copy()[df['tweets'].str.contains('RT @')]\n",
    "tweets_df = df[~df[\"tweets\"].str.contains('RT @')]\n",
    "# tweets_\n",
    "# tweets_df['split_tweets'] = tweets_df['tweets'].str.split(' ')\n",
    "# tweets_df['split_tweets'] = tweets_df['split_tweets'].apply(lambda x: list(map(t.letters, x)))\n",
    "# tweets_df['split_tweets'] = tweets_df['split_tweets'].apply(lambda x: list(map(str.lower, x)))\n",
    "#tweets_df['word_count'] = tweets_df['split_tweets'].apply(lambda x: t.count_dictionary(x))"
   ]
  },
  {
   "cell_type": "code",
   "execution_count": 51,
   "metadata": {},
   "outputs": [
    {
     "name": "stdout",
     "output_type": "stream",
     "text": [
      "percent not retweets: 0.84\n",
      "percent retweets: 0.16\n"
     ]
    }
   ],
   "source": [
    "print(f'percent not retweets: {len(tweets_df)/len(df):2.2f}')\n",
    "print(f'percent retweets: {len(retweets_df)/len(df):2.2f}')"
   ]
  },
  {
   "cell_type": "code",
   "execution_count": 8,
   "metadata": {},
   "outputs": [
    {
     "data": {
      "text/plain": [
       "(288615, 11)"
      ]
     },
     "execution_count": 8,
     "metadata": {},
     "output_type": "execute_result"
    }
   ],
   "source": [
    "tweets_df.shape"
   ]
  },
  {
   "cell_type": "code",
   "execution_count": 15,
   "metadata": {},
   "outputs": [
    {
     "data": {
      "text/plain": [
       "\"Great chat w @chrislhayes about Sessions hearing &amp; my concerns w AG's answers on Russia &amp; press freedom. Don't wantäó_ https://t.co/lP02MrySvd\""
      ]
     },
     "execution_count": 15,
     "metadata": {},
     "output_type": "execute_result"
    }
   ],
   "source": [
    "df['text'].iloc[5]"
   ]
  },
  {
   "cell_type": "code",
   "execution_count": 14,
   "metadata": {},
   "outputs": [
    {
     "data": {
      "text/plain": [
       "'https://twitter.com/amyklobuchar/status/921031727556022274'"
      ]
     },
     "execution_count": 14,
     "metadata": {},
     "output_type": "execute_result"
    }
   ],
   "source": [
    "df['url'].iloc[5]"
   ]
  },
  {
   "cell_type": "code",
   "execution_count": 31,
   "metadata": {},
   "outputs": [],
   "source": [
    "count_d = dict()\n",
    "for word_list in tweets_df['split_tweets']:\n",
    "    for word in word_list:\n",
    "        if word not in count_d.keys():\n",
    "            count_d[word] = 1\n",
    "        else:\n",
    "            count_d[word] += 1"
   ]
  },
  {
   "cell_type": "code",
   "execution_count": 36,
   "metadata": {},
   "outputs": [
    {
     "data": {
      "text/plain": [
       "'to'"
      ]
     },
     "execution_count": 36,
     "metadata": {},
     "output_type": "execute_result"
    }
   ],
   "source": [
    "max(count_d, key=count_d.get)"
   ]
  },
  {
   "cell_type": "code",
   "execution_count": 37,
   "metadata": {},
   "outputs": [
    {
     "data": {
      "text/plain": [
       "194869"
      ]
     },
     "execution_count": 37,
     "metadata": {},
     "output_type": "execute_result"
    }
   ],
   "source": [
    "count_d['to']"
   ]
  },
  {
   "cell_type": "code",
   "execution_count": 40,
   "metadata": {},
   "outputs": [
    {
     "name": "stdout",
     "output_type": "stream",
     "text": [
      "we 28904\n",
      "bill 14882\n",
      "today 22770\n",
      "amp 68558\n",
      "to 194869\n",
      "this 30203\n",
      "i 31329\n",
      "with 30772\n",
      "on 63818\n",
      "of 86755\n",
      "in 86045\n",
      "my 28761\n",
      "and 54468\n",
      "the 166934\n",
      "our 33026\n",
      "who 11603\n",
      "an 10469\n",
      "as 12872\n",
      "great 14979\n",
      "w 14952\n",
      "about 17489\n",
      "by 16176\n",
      "it 16141\n",
      "that 21487\n",
      "is 42254\n",
      "for 76704\n",
      "a 65312\n",
      "at 31015\n",
      "will 20723\n",
      " 84506\n",
      "be 20619\n",
      "help 10431\n",
      "not 10783\n",
      "their 12109\n",
      "more 15779\n",
      "from 21737\n",
      "you 21844\n",
      "all 12101\n",
      "rt 47520\n",
      "are 18437\n",
      "have 14603\n",
      "new 10018\n",
      "us 15027\n",
      "health 10954\n",
      "senate 14603\n"
     ]
    }
   ],
   "source": [
    "for k,v in count_d.items():\n",
    "    if v > 10000:\n",
    "        print(k,v)"
   ]
  },
  {
   "cell_type": "code",
   "execution_count": 21,
   "metadata": {},
   "outputs": [],
   "source": [
    "def is_retweet(lst):\n",
    "    if 'rt' in lst:\n",
    "        return True\n",
    "    else:\n",
    "        return False"
   ]
  },
  {
   "cell_type": "code",
   "execution_count": 35,
   "metadata": {},
   "outputs": [],
   "source": [
    "df_sub = df.copy()[:1000]"
   ]
  },
  {
   "cell_type": "code",
   "execution_count": 37,
   "metadata": {},
   "outputs": [
    {
     "data": {
      "text/plain": [
       "46402"
      ]
     },
     "execution_count": 37,
     "metadata": {},
     "output_type": "execute_result"
    }
   ],
   "source": [
    "df[df['text'].str.contains('RT @')]"
   ]
  },
  {
   "cell_type": "code",
   "execution_count": 20,
   "metadata": {},
   "outputs": [
    {
     "ename": "TypeError",
     "evalue": "'bool' object is not callable",
     "output_type": "error",
     "traceback": [
      "\u001b[0;31m---------------------------------------------------------------------------\u001b[0m",
      "\u001b[0;31mTypeError\u001b[0m                                 Traceback (most recent call last)",
      "\u001b[0;32m<ipython-input-20-be158bcec5d7>\u001b[0m in \u001b[0;36m<module>\u001b[0;34m\u001b[0m\n\u001b[0;32m----> 1\u001b[0;31m \u001b[0mtweets_df\u001b[0m\u001b[0;34m[\u001b[0m\u001b[0;34m[\u001b[0m\u001b[0;34m'split_tweets'\u001b[0m\u001b[0;34m]\u001b[0m\u001b[0;34m]\u001b[0m\u001b[0;34m.\u001b[0m\u001b[0mapply\u001b[0m\u001b[0;34m(\u001b[0m\u001b[0;32mlambda\u001b[0m \u001b[0mx\u001b[0m\u001b[0;34m:\u001b[0m \u001b[0mlist\u001b[0m\u001b[0;34m(\u001b[0m\u001b[0mmap\u001b[0m\u001b[0;34m(\u001b[0m\u001b[0;34m'rt'\u001b[0m \u001b[0;32mnot\u001b[0m \u001b[0;32min\u001b[0m \u001b[0mx\u001b[0m\u001b[0;34m,\u001b[0m \u001b[0mx\u001b[0m\u001b[0;34m)\u001b[0m\u001b[0;34m)\u001b[0m\u001b[0;34m)\u001b[0m\u001b[0;34m\u001b[0m\u001b[0;34m\u001b[0m\u001b[0m\n\u001b[0m",
      "\u001b[0;32m~/anaconda3/lib/python3.7/site-packages/pandas/core/frame.py\u001b[0m in \u001b[0;36mapply\u001b[0;34m(self, func, axis, raw, result_type, args, **kwds)\u001b[0m\n\u001b[1;32m   6876\u001b[0m             \u001b[0mkwds\u001b[0m\u001b[0;34m=\u001b[0m\u001b[0mkwds\u001b[0m\u001b[0;34m,\u001b[0m\u001b[0;34m\u001b[0m\u001b[0;34m\u001b[0m\u001b[0m\n\u001b[1;32m   6877\u001b[0m         )\n\u001b[0;32m-> 6878\u001b[0;31m         \u001b[0;32mreturn\u001b[0m \u001b[0mop\u001b[0m\u001b[0;34m.\u001b[0m\u001b[0mget_result\u001b[0m\u001b[0;34m(\u001b[0m\u001b[0;34m)\u001b[0m\u001b[0;34m\u001b[0m\u001b[0;34m\u001b[0m\u001b[0m\n\u001b[0m\u001b[1;32m   6879\u001b[0m \u001b[0;34m\u001b[0m\u001b[0m\n\u001b[1;32m   6880\u001b[0m     \u001b[0;32mdef\u001b[0m \u001b[0mapplymap\u001b[0m\u001b[0;34m(\u001b[0m\u001b[0mself\u001b[0m\u001b[0;34m,\u001b[0m \u001b[0mfunc\u001b[0m\u001b[0;34m)\u001b[0m \u001b[0;34m->\u001b[0m \u001b[0;34m\"DataFrame\"\u001b[0m\u001b[0;34m:\u001b[0m\u001b[0;34m\u001b[0m\u001b[0;34m\u001b[0m\u001b[0m\n",
      "\u001b[0;32m~/anaconda3/lib/python3.7/site-packages/pandas/core/apply.py\u001b[0m in \u001b[0;36mget_result\u001b[0;34m(self)\u001b[0m\n\u001b[1;32m    184\u001b[0m             \u001b[0;32mreturn\u001b[0m \u001b[0mself\u001b[0m\u001b[0;34m.\u001b[0m\u001b[0mapply_raw\u001b[0m\u001b[0;34m(\u001b[0m\u001b[0;34m)\u001b[0m\u001b[0;34m\u001b[0m\u001b[0;34m\u001b[0m\u001b[0m\n\u001b[1;32m    185\u001b[0m \u001b[0;34m\u001b[0m\u001b[0m\n\u001b[0;32m--> 186\u001b[0;31m         \u001b[0;32mreturn\u001b[0m \u001b[0mself\u001b[0m\u001b[0;34m.\u001b[0m\u001b[0mapply_standard\u001b[0m\u001b[0;34m(\u001b[0m\u001b[0;34m)\u001b[0m\u001b[0;34m\u001b[0m\u001b[0;34m\u001b[0m\u001b[0m\n\u001b[0m\u001b[1;32m    187\u001b[0m \u001b[0;34m\u001b[0m\u001b[0m\n\u001b[1;32m    188\u001b[0m     \u001b[0;32mdef\u001b[0m \u001b[0mapply_empty_result\u001b[0m\u001b[0;34m(\u001b[0m\u001b[0mself\u001b[0m\u001b[0;34m)\u001b[0m\u001b[0;34m:\u001b[0m\u001b[0;34m\u001b[0m\u001b[0;34m\u001b[0m\u001b[0m\n",
      "\u001b[0;32m~/anaconda3/lib/python3.7/site-packages/pandas/core/apply.py\u001b[0m in \u001b[0;36mapply_standard\u001b[0;34m(self)\u001b[0m\n\u001b[1;32m    294\u001b[0m             \u001b[0;32mtry\u001b[0m\u001b[0;34m:\u001b[0m\u001b[0;34m\u001b[0m\u001b[0;34m\u001b[0m\u001b[0m\n\u001b[1;32m    295\u001b[0m                 result = libreduction.compute_reduction(\n\u001b[0;32m--> 296\u001b[0;31m                     \u001b[0mvalues\u001b[0m\u001b[0;34m,\u001b[0m \u001b[0mself\u001b[0m\u001b[0;34m.\u001b[0m\u001b[0mf\u001b[0m\u001b[0;34m,\u001b[0m \u001b[0maxis\u001b[0m\u001b[0;34m=\u001b[0m\u001b[0mself\u001b[0m\u001b[0;34m.\u001b[0m\u001b[0maxis\u001b[0m\u001b[0;34m,\u001b[0m \u001b[0mdummy\u001b[0m\u001b[0;34m=\u001b[0m\u001b[0mdummy\u001b[0m\u001b[0;34m,\u001b[0m \u001b[0mlabels\u001b[0m\u001b[0;34m=\u001b[0m\u001b[0mlabels\u001b[0m\u001b[0;34m\u001b[0m\u001b[0;34m\u001b[0m\u001b[0m\n\u001b[0m\u001b[1;32m    297\u001b[0m                 )\n\u001b[1;32m    298\u001b[0m             \u001b[0;32mexcept\u001b[0m \u001b[0mValueError\u001b[0m \u001b[0;32mas\u001b[0m \u001b[0merr\u001b[0m\u001b[0;34m:\u001b[0m\u001b[0;34m\u001b[0m\u001b[0;34m\u001b[0m\u001b[0m\n",
      "\u001b[0;32mpandas/_libs/reduction.pyx\u001b[0m in \u001b[0;36mpandas._libs.reduction.compute_reduction\u001b[0;34m()\u001b[0m\n",
      "\u001b[0;32mpandas/_libs/reduction.pyx\u001b[0m in \u001b[0;36mpandas._libs.reduction.Reducer.get_result\u001b[0;34m()\u001b[0m\n",
      "\u001b[0;32m<ipython-input-20-be158bcec5d7>\u001b[0m in \u001b[0;36m<lambda>\u001b[0;34m(x)\u001b[0m\n\u001b[0;32m----> 1\u001b[0;31m \u001b[0mtweets_df\u001b[0m\u001b[0;34m[\u001b[0m\u001b[0;34m[\u001b[0m\u001b[0;34m'split_tweets'\u001b[0m\u001b[0;34m]\u001b[0m\u001b[0;34m]\u001b[0m\u001b[0;34m.\u001b[0m\u001b[0mapply\u001b[0m\u001b[0;34m(\u001b[0m\u001b[0;32mlambda\u001b[0m \u001b[0mx\u001b[0m\u001b[0;34m:\u001b[0m \u001b[0mlist\u001b[0m\u001b[0;34m(\u001b[0m\u001b[0mmap\u001b[0m\u001b[0;34m(\u001b[0m\u001b[0;34m'rt'\u001b[0m \u001b[0;32mnot\u001b[0m \u001b[0;32min\u001b[0m \u001b[0mx\u001b[0m\u001b[0;34m,\u001b[0m \u001b[0mx\u001b[0m\u001b[0;34m)\u001b[0m\u001b[0;34m)\u001b[0m\u001b[0;34m)\u001b[0m\u001b[0;34m\u001b[0m\u001b[0;34m\u001b[0m\u001b[0m\n\u001b[0m",
      "\u001b[0;31mTypeError\u001b[0m: 'bool' object is not callable"
     ]
    }
   ],
   "source": [
    "tweets_df[['split_tweets']].apply(lambda x: list(map('rt' not in x, x)))"
   ]
  },
  {
   "cell_type": "code",
   "execution_count": 52,
   "metadata": {},
   "outputs": [
    {
     "data": {
      "text/html": [
       "<div>\n",
       "<style scoped>\n",
       "    .dataframe tbody tr th:only-of-type {\n",
       "        vertical-align: middle;\n",
       "    }\n",
       "\n",
       "    .dataframe tbody tr th {\n",
       "        vertical-align: top;\n",
       "    }\n",
       "\n",
       "    .dataframe thead th {\n",
       "        text-align: right;\n",
       "    }\n",
       "</style>\n",
       "<table border=\"1\" class=\"dataframe\">\n",
       "  <thead>\n",
       "    <tr style=\"text-align: right;\">\n",
       "      <th></th>\n",
       "      <th>created_at</th>\n",
       "      <th>tweets</th>\n",
       "      <th>url</th>\n",
       "      <th>replies</th>\n",
       "      <th>retweets</th>\n",
       "      <th>favorites</th>\n",
       "      <th>user</th>\n",
       "      <th>bioguide_id</th>\n",
       "      <th>party</th>\n",
       "      <th>state</th>\n",
       "    </tr>\n",
       "  </thead>\n",
       "  <tbody>\n",
       "    <tr>\n",
       "      <th>87415</th>\n",
       "      <td>1/20/17 15:49</td>\n",
       "      <td>RT @POTUS: It's been the honor of my life to s...</td>\n",
       "      <td>https://twitter.com/SenatorCantwell/status/822...</td>\n",
       "      <td>19158</td>\n",
       "      <td>632470</td>\n",
       "      <td>1642617</td>\n",
       "      <td>SenatorCantwell</td>\n",
       "      <td>C000127</td>\n",
       "      <td>D</td>\n",
       "      <td>WA</td>\n",
       "    </tr>\n",
       "    <tr>\n",
       "      <th>89414</th>\n",
       "      <td>7/20/17 16:48</td>\n",
       "      <td>RT @BarackObama: John McCain is an American he...</td>\n",
       "      <td>https://twitter.com/SenatorCardin/status/88807...</td>\n",
       "      <td>29569</td>\n",
       "      <td>419445</td>\n",
       "      <td>2108865</td>\n",
       "      <td>SenatorCardin</td>\n",
       "      <td>C000141</td>\n",
       "      <td>D</td>\n",
       "      <td>MD</td>\n",
       "    </tr>\n",
       "    <tr>\n",
       "      <th>92567</th>\n",
       "      <td>7/20/17 2:43</td>\n",
       "      <td>RT @BarackObama: John McCain is an American he...</td>\n",
       "      <td>https://twitter.com/SenatorCarper/status/88786...</td>\n",
       "      <td>29569</td>\n",
       "      <td>419445</td>\n",
       "      <td>2108865</td>\n",
       "      <td>SenatorCarper</td>\n",
       "      <td>C000174</td>\n",
       "      <td>D</td>\n",
       "      <td>DE</td>\n",
       "    </tr>\n",
       "    <tr>\n",
       "      <th>120520</th>\n",
       "      <td>10/3/17 14:19</td>\n",
       "      <td>RT @MichelleObama: Happy 25th anniversary @bar...</td>\n",
       "      <td>https://twitter.com/SenatorLeahy/status/915219...</td>\n",
       "      <td>25827</td>\n",
       "      <td>287230</td>\n",
       "      <td>1315041</td>\n",
       "      <td>SenatorLeahy</td>\n",
       "      <td>L000174</td>\n",
       "      <td>D</td>\n",
       "      <td>VT</td>\n",
       "    </tr>\n",
       "    <tr>\n",
       "      <th>129663</th>\n",
       "      <td>10/10/17 20:59</td>\n",
       "      <td>RT @Malala: 5 years ago, I was shot in an atte...</td>\n",
       "      <td>https://twitter.com/SenatorShaheen/status/9178...</td>\n",
       "      <td>11053</td>\n",
       "      <td>356284</td>\n",
       "      <td>1156950</td>\n",
       "      <td>SenatorShaheen</td>\n",
       "      <td>S001181</td>\n",
       "      <td>D</td>\n",
       "      <td>NH</td>\n",
       "    </tr>\n",
       "    <tr>\n",
       "      <th>160184</th>\n",
       "      <td>1/20/17 22:13</td>\n",
       "      <td>RT @POTUS44: It's been the honor of my life to...</td>\n",
       "      <td>https://twitter.com/SenBooker/status/822567739...</td>\n",
       "      <td>19158</td>\n",
       "      <td>632470</td>\n",
       "      <td>1642608</td>\n",
       "      <td>SenBooker</td>\n",
       "      <td>B001288</td>\n",
       "      <td>D</td>\n",
       "      <td>NJ</td>\n",
       "    </tr>\n",
       "    <tr>\n",
       "      <th>196359</th>\n",
       "      <td>1/20/17 1:25</td>\n",
       "      <td>RT @FLOTUS: Being your First Lady has been the...</td>\n",
       "      <td>https://twitter.com/SenGillibrand/status/82225...</td>\n",
       "      <td>19142</td>\n",
       "      <td>368413</td>\n",
       "      <td>1167951</td>\n",
       "      <td>SenGillibrand</td>\n",
       "      <td>G000555</td>\n",
       "      <td>D</td>\n",
       "      <td>NY</td>\n",
       "    </tr>\n",
       "  </tbody>\n",
       "</table>\n",
       "</div>"
      ],
      "text/plain": [
       "            created_at                                             tweets  \\\n",
       "87415    1/20/17 15:49  RT @POTUS: It's been the honor of my life to s...   \n",
       "89414    7/20/17 16:48  RT @BarackObama: John McCain is an American he...   \n",
       "92567     7/20/17 2:43  RT @BarackObama: John McCain is an American he...   \n",
       "120520   10/3/17 14:19  RT @MichelleObama: Happy 25th anniversary @bar...   \n",
       "129663  10/10/17 20:59  RT @Malala: 5 years ago, I was shot in an atte...   \n",
       "160184   1/20/17 22:13  RT @POTUS44: It's been the honor of my life to...   \n",
       "196359    1/20/17 1:25  RT @FLOTUS: Being your First Lady has been the...   \n",
       "\n",
       "                                                      url  replies  retweets  \\\n",
       "87415   https://twitter.com/SenatorCantwell/status/822...    19158    632470   \n",
       "89414   https://twitter.com/SenatorCardin/status/88807...    29569    419445   \n",
       "92567   https://twitter.com/SenatorCarper/status/88786...    29569    419445   \n",
       "120520  https://twitter.com/SenatorLeahy/status/915219...    25827    287230   \n",
       "129663  https://twitter.com/SenatorShaheen/status/9178...    11053    356284   \n",
       "160184  https://twitter.com/SenBooker/status/822567739...    19158    632470   \n",
       "196359  https://twitter.com/SenGillibrand/status/82225...    19142    368413   \n",
       "\n",
       "        favorites             user bioguide_id party state  \n",
       "87415     1642617  SenatorCantwell     C000127     D    WA  \n",
       "89414     2108865    SenatorCardin     C000141     D    MD  \n",
       "92567     2108865    SenatorCarper     C000174     D    DE  \n",
       "120520    1315041     SenatorLeahy     L000174     D    VT  \n",
       "129663    1156950   SenatorShaheen     S001181     D    NH  \n",
       "160184    1642608        SenBooker     B001288     D    NJ  \n",
       "196359    1167951    SenGillibrand     G000555     D    NY  "
      ]
     },
     "execution_count": 52,
     "metadata": {},
     "output_type": "execute_result"
    }
   ],
   "source": [
    "t.filter_df(retweets_df, 'favorites', 1000000, max)"
   ]
  },
  {
   "cell_type": "code",
   "execution_count": 57,
   "metadata": {},
   "outputs": [
    {
     "data": {
      "text/html": [
       "<div>\n",
       "<style scoped>\n",
       "    .dataframe tbody tr th:only-of-type {\n",
       "        vertical-align: middle;\n",
       "    }\n",
       "\n",
       "    .dataframe tbody tr th {\n",
       "        vertical-align: top;\n",
       "    }\n",
       "\n",
       "    .dataframe thead th {\n",
       "        text-align: right;\n",
       "    }\n",
       "</style>\n",
       "<table border=\"1\" class=\"dataframe\">\n",
       "  <thead>\n",
       "    <tr style=\"text-align: right;\">\n",
       "      <th></th>\n",
       "      <th>created_at</th>\n",
       "      <th>tweets</th>\n",
       "      <th>url</th>\n",
       "      <th>replies</th>\n",
       "      <th>retweets</th>\n",
       "      <th>favorites</th>\n",
       "      <th>user</th>\n",
       "      <th>bioguide_id</th>\n",
       "      <th>party</th>\n",
       "      <th>state</th>\n",
       "    </tr>\n",
       "  </thead>\n",
       "  <tbody>\n",
       "    <tr>\n",
       "      <th>244285</th>\n",
       "      <td>8/15/17 22:06</td>\n",
       "      <td>.@realDonaldTrump, you are embarrassing our co...</td>\n",
       "      <td>https://twitter.com/SenSanders/status/89758034...</td>\n",
       "      <td>7510</td>\n",
       "      <td>201134</td>\n",
       "      <td>565707</td>\n",
       "      <td>SenSanders</td>\n",
       "      <td>S000033</td>\n",
       "      <td>I</td>\n",
       "      <td>VT</td>\n",
       "    </tr>\n",
       "    <tr>\n",
       "      <th>245162</th>\n",
       "      <td>2/25/17 13:56</td>\n",
       "      <td>.@realDonaldTrump They did. It wasn't. https:/...</td>\n",
       "      <td>https://twitter.com/SenSanders/status/83548856...</td>\n",
       "      <td>11072</td>\n",
       "      <td>207143</td>\n",
       "      <td>520384</td>\n",
       "      <td>SenSanders</td>\n",
       "      <td>S000033</td>\n",
       "      <td>I</td>\n",
       "      <td>VT</td>\n",
       "    </tr>\n",
       "    <tr>\n",
       "      <th>245420</th>\n",
       "      <td>1/21/17 22:15</td>\n",
       "      <td>President Trump, you made a big mistake. By tr...</td>\n",
       "      <td>https://twitter.com/SenSanders/status/82293062...</td>\n",
       "      <td>13929</td>\n",
       "      <td>454660</td>\n",
       "      <td>975012</td>\n",
       "      <td>SenSanders</td>\n",
       "      <td>S000033</td>\n",
       "      <td>I</td>\n",
       "      <td>VT</td>\n",
       "    </tr>\n",
       "  </tbody>\n",
       "</table>\n",
       "</div>"
      ],
      "text/plain": [
       "           created_at                                             tweets  \\\n",
       "244285  8/15/17 22:06  .@realDonaldTrump, you are embarrassing our co...   \n",
       "245162  2/25/17 13:56  .@realDonaldTrump They did. It wasn't. https:/...   \n",
       "245420  1/21/17 22:15  President Trump, you made a big mistake. By tr...   \n",
       "\n",
       "                                                      url  replies  retweets  \\\n",
       "244285  https://twitter.com/SenSanders/status/89758034...     7510    201134   \n",
       "245162  https://twitter.com/SenSanders/status/83548856...    11072    207143   \n",
       "245420  https://twitter.com/SenSanders/status/82293062...    13929    454660   \n",
       "\n",
       "        favorites        user bioguide_id party state  \n",
       "244285     565707  SenSanders     S000033     I    VT  \n",
       "245162     520384  SenSanders     S000033     I    VT  \n",
       "245420     975012  SenSanders     S000033     I    VT  "
      ]
     },
     "execution_count": 57,
     "metadata": {},
     "output_type": "execute_result"
    }
   ],
   "source": [
    "t.filter_df(tweets_df, 'favorites', 500000, max)"
   ]
  },
  {
   "cell_type": "code",
   "execution_count": 60,
   "metadata": {},
   "outputs": [
    {
     "data": {
      "text/html": [
       "<div>\n",
       "<style scoped>\n",
       "    .dataframe tbody tr th:only-of-type {\n",
       "        vertical-align: middle;\n",
       "    }\n",
       "\n",
       "    .dataframe tbody tr th {\n",
       "        vertical-align: top;\n",
       "    }\n",
       "\n",
       "    .dataframe thead th {\n",
       "        text-align: right;\n",
       "    }\n",
       "</style>\n",
       "<table border=\"1\" class=\"dataframe\">\n",
       "  <thead>\n",
       "    <tr style=\"text-align: right;\">\n",
       "      <th></th>\n",
       "      <th>created_at</th>\n",
       "      <th>tweets</th>\n",
       "      <th>url</th>\n",
       "      <th>replies</th>\n",
       "      <th>retweets</th>\n",
       "      <th>favorites</th>\n",
       "      <th>user</th>\n",
       "      <th>bioguide_id</th>\n",
       "      <th>party</th>\n",
       "      <th>state</th>\n",
       "    </tr>\n",
       "  </thead>\n",
       "  <tbody>\n",
       "    <tr>\n",
       "      <th>245420</th>\n",
       "      <td>1/21/17 22:15</td>\n",
       "      <td>President Trump, you made a big mistake. By tr...</td>\n",
       "      <td>https://twitter.com/SenSanders/status/82293062...</td>\n",
       "      <td>13929</td>\n",
       "      <td>454660</td>\n",
       "      <td>975012</td>\n",
       "      <td>SenSanders</td>\n",
       "      <td>S000033</td>\n",
       "      <td>I</td>\n",
       "      <td>VT</td>\n",
       "    </tr>\n",
       "  </tbody>\n",
       "</table>\n",
       "</div>"
      ],
      "text/plain": [
       "           created_at                                             tweets  \\\n",
       "245420  1/21/17 22:15  President Trump, you made a big mistake. By tr...   \n",
       "\n",
       "                                                      url  replies  retweets  \\\n",
       "245420  https://twitter.com/SenSanders/status/82293062...    13929    454660   \n",
       "\n",
       "        favorites        user bioguide_id party state  \n",
       "245420     975012  SenSanders     S000033     I    VT  "
      ]
     },
     "execution_count": 60,
     "metadata": {},
     "output_type": "execute_result"
    }
   ],
   "source": [
    "t.filter_df(tweets_df, 'retweets', 0, max)"
   ]
  },
  {
   "cell_type": "code",
   "execution_count": 61,
   "metadata": {},
   "outputs": [
    {
     "data": {
      "text/html": [
       "<div>\n",
       "<style scoped>\n",
       "    .dataframe tbody tr th:only-of-type {\n",
       "        vertical-align: middle;\n",
       "    }\n",
       "\n",
       "    .dataframe tbody tr th {\n",
       "        vertical-align: top;\n",
       "    }\n",
       "\n",
       "    .dataframe thead th {\n",
       "        text-align: right;\n",
       "    }\n",
       "</style>\n",
       "<table border=\"1\" class=\"dataframe\">\n",
       "  <thead>\n",
       "    <tr style=\"text-align: right;\">\n",
       "      <th></th>\n",
       "      <th>created_at</th>\n",
       "      <th>tweets</th>\n",
       "      <th>url</th>\n",
       "      <th>replies</th>\n",
       "      <th>retweets</th>\n",
       "      <th>favorites</th>\n",
       "      <th>user</th>\n",
       "      <th>bioguide_id</th>\n",
       "      <th>party</th>\n",
       "      <th>state</th>\n",
       "    </tr>\n",
       "  </thead>\n",
       "  <tbody>\n",
       "    <tr>\n",
       "      <th>167894</th>\n",
       "      <td>4/11/17 17:47</td>\n",
       "      <td>RT @carterjwm: HELP ME PLEASE. A MAN NEEDS HIS...</td>\n",
       "      <td>https://twitter.com/SenCortezMasto/status/8518...</td>\n",
       "      <td>38225</td>\n",
       "      <td>3644423</td>\n",
       "      <td>1016576</td>\n",
       "      <td>SenCortezMasto</td>\n",
       "      <td>C001113</td>\n",
       "      <td>D</td>\n",
       "      <td>NV</td>\n",
       "    </tr>\n",
       "  </tbody>\n",
       "</table>\n",
       "</div>"
      ],
      "text/plain": [
       "           created_at                                             tweets  \\\n",
       "167894  4/11/17 17:47  RT @carterjwm: HELP ME PLEASE. A MAN NEEDS HIS...   \n",
       "\n",
       "                                                      url  replies  retweets  \\\n",
       "167894  https://twitter.com/SenCortezMasto/status/8518...    38225   3644423   \n",
       "\n",
       "        favorites            user bioguide_id party state  \n",
       "167894    1016576  SenCortezMasto     C001113     D    NV  "
      ]
     },
     "execution_count": 61,
     "metadata": {},
     "output_type": "execute_result"
    }
   ],
   "source": [
    "t.filter_df(retweets_df, 'retweets', 0, max)"
   ]
  },
  {
   "cell_type": "code",
   "execution_count": 62,
   "metadata": {},
   "outputs": [
    {
     "data": {
      "text/html": [
       "<div>\n",
       "<style scoped>\n",
       "    .dataframe tbody tr th:only-of-type {\n",
       "        vertical-align: middle;\n",
       "    }\n",
       "\n",
       "    .dataframe tbody tr th {\n",
       "        vertical-align: top;\n",
       "    }\n",
       "\n",
       "    .dataframe thead th {\n",
       "        text-align: right;\n",
       "    }\n",
       "</style>\n",
       "<table border=\"1\" class=\"dataframe\">\n",
       "  <thead>\n",
       "    <tr style=\"text-align: right;\">\n",
       "      <th></th>\n",
       "      <th>created_at</th>\n",
       "      <th>tweets</th>\n",
       "      <th>url</th>\n",
       "      <th>replies</th>\n",
       "      <th>retweets</th>\n",
       "      <th>favorites</th>\n",
       "      <th>user</th>\n",
       "      <th>bioguide_id</th>\n",
       "      <th>party</th>\n",
       "      <th>state</th>\n",
       "    </tr>\n",
       "  </thead>\n",
       "  <tbody>\n",
       "    <tr>\n",
       "      <th>155684</th>\n",
       "      <td>8/12/17 20:09</td>\n",
       "      <td>RT @realDonaldTrump: We ALL must be united &amp;am...</td>\n",
       "      <td>https://twitter.com/SenBobCorker/status/896463...</td>\n",
       "      <td>66872</td>\n",
       "      <td>59242</td>\n",
       "      <td>194351</td>\n",
       "      <td>SenBobCorker</td>\n",
       "      <td>C001071</td>\n",
       "      <td>R</td>\n",
       "      <td>TN</td>\n",
       "    </tr>\n",
       "    <tr>\n",
       "      <th>173545</th>\n",
       "      <td>8/13/17 0:06</td>\n",
       "      <td>RT @realDonaldTrump: We ALL must be united &amp;am...</td>\n",
       "      <td>https://twitter.com/sendavidperdue/status/8965...</td>\n",
       "      <td>66872</td>\n",
       "      <td>59242</td>\n",
       "      <td>194346</td>\n",
       "      <td>sendavidperdue</td>\n",
       "      <td>P000612</td>\n",
       "      <td>R</td>\n",
       "      <td>GA</td>\n",
       "    </tr>\n",
       "  </tbody>\n",
       "</table>\n",
       "</div>"
      ],
      "text/plain": [
       "           created_at                                             tweets  \\\n",
       "155684  8/12/17 20:09  RT @realDonaldTrump: We ALL must be united &am...   \n",
       "173545   8/13/17 0:06  RT @realDonaldTrump: We ALL must be united &am...   \n",
       "\n",
       "                                                      url  replies  retweets  \\\n",
       "155684  https://twitter.com/SenBobCorker/status/896463...    66872     59242   \n",
       "173545  https://twitter.com/sendavidperdue/status/8965...    66872     59242   \n",
       "\n",
       "        favorites            user bioguide_id party state  \n",
       "155684     194351    SenBobCorker     C001071     R    TN  \n",
       "173545     194346  sendavidperdue     P000612     R    GA  "
      ]
     },
     "execution_count": 62,
     "metadata": {},
     "output_type": "execute_result"
    }
   ],
   "source": [
    "t.filter_df(retweets_df, 'replies', 0, max)"
   ]
  },
  {
   "cell_type": "code",
   "execution_count": 63,
   "metadata": {},
   "outputs": [
    {
     "data": {
      "text/html": [
       "<div>\n",
       "<style scoped>\n",
       "    .dataframe tbody tr th:only-of-type {\n",
       "        vertical-align: middle;\n",
       "    }\n",
       "\n",
       "    .dataframe tbody tr th {\n",
       "        vertical-align: top;\n",
       "    }\n",
       "\n",
       "    .dataframe thead th {\n",
       "        text-align: right;\n",
       "    }\n",
       "</style>\n",
       "<table border=\"1\" class=\"dataframe\">\n",
       "  <thead>\n",
       "    <tr style=\"text-align: right;\">\n",
       "      <th></th>\n",
       "      <th>created_at</th>\n",
       "      <th>tweets</th>\n",
       "      <th>url</th>\n",
       "      <th>replies</th>\n",
       "      <th>retweets</th>\n",
       "      <th>favorites</th>\n",
       "      <th>user</th>\n",
       "      <th>bioguide_id</th>\n",
       "      <th>party</th>\n",
       "      <th>state</th>\n",
       "    </tr>\n",
       "  </thead>\n",
       "  <tbody>\n",
       "    <tr>\n",
       "      <th>211234</th>\n",
       "      <td>9/22/17 18:06</td>\n",
       "      <td>I cannot in good conscience vote for Graham-Ca...</td>\n",
       "      <td>https://twitter.com/SenJohnMcCain/status/91129...</td>\n",
       "      <td>38416</td>\n",
       "      <td>56606</td>\n",
       "      <td>190133</td>\n",
       "      <td>SenJohnMcCain</td>\n",
       "      <td>M000303</td>\n",
       "      <td>R</td>\n",
       "      <td>AZ</td>\n",
       "    </tr>\n",
       "  </tbody>\n",
       "</table>\n",
       "</div>"
      ],
      "text/plain": [
       "           created_at                                             tweets  \\\n",
       "211234  9/22/17 18:06  I cannot in good conscience vote for Graham-Ca...   \n",
       "\n",
       "                                                      url  replies  retweets  \\\n",
       "211234  https://twitter.com/SenJohnMcCain/status/91129...    38416     56606   \n",
       "\n",
       "        favorites           user bioguide_id party state  \n",
       "211234     190133  SenJohnMcCain     M000303     R    AZ  "
      ]
     },
     "execution_count": 63,
     "metadata": {},
     "output_type": "execute_result"
    }
   ],
   "source": [
    "t.filter_df(tweets_df, 'replies', 0, max)"
   ]
  },
  {
   "cell_type": "code",
   "execution_count": 50,
   "metadata": {},
   "outputs": [
    {
     "data": {
      "text/html": [
       "<div>\n",
       "<style scoped>\n",
       "    .dataframe tbody tr th:only-of-type {\n",
       "        vertical-align: middle;\n",
       "    }\n",
       "\n",
       "    .dataframe tbody tr th {\n",
       "        vertical-align: top;\n",
       "    }\n",
       "\n",
       "    .dataframe thead th {\n",
       "        text-align: right;\n",
       "    }\n",
       "</style>\n",
       "<table border=\"1\" class=\"dataframe\">\n",
       "  <thead>\n",
       "    <tr style=\"text-align: right;\">\n",
       "      <th></th>\n",
       "      <th>created_at</th>\n",
       "      <th>text</th>\n",
       "      <th>url</th>\n",
       "      <th>replies</th>\n",
       "      <th>retweets</th>\n",
       "      <th>favorites</th>\n",
       "      <th>user</th>\n",
       "      <th>bioguide_id</th>\n",
       "      <th>party</th>\n",
       "      <th>state</th>\n",
       "    </tr>\n",
       "  </thead>\n",
       "  <tbody>\n",
       "    <tr>\n",
       "      <th>0</th>\n",
       "      <td>10/19/17 21:47</td>\n",
       "      <td>We released bipartisan healthcare bill today &amp;...</td>\n",
       "      <td>https://twitter.com/amyklobuchar/status/921130...</td>\n",
       "      <td>21</td>\n",
       "      <td>129</td>\n",
       "      <td>533</td>\n",
       "      <td>amyklobuchar</td>\n",
       "      <td>K000367</td>\n",
       "      <td>D</td>\n",
       "      <td>MN</td>\n",
       "    </tr>\n",
       "    <tr>\n",
       "      <th>1</th>\n",
       "      <td>10/19/17 18:48</td>\n",
       "      <td>I spoke with @Morning_Joe team abt #HonestAds ...</td>\n",
       "      <td>https://twitter.com/amyklobuchar/status/921085...</td>\n",
       "      <td>8</td>\n",
       "      <td>46</td>\n",
       "      <td>150</td>\n",
       "      <td>amyklobuchar</td>\n",
       "      <td>K000367</td>\n",
       "      <td>D</td>\n",
       "      <td>MN</td>\n",
       "    </tr>\n",
       "    <tr>\n",
       "      <th>2</th>\n",
       "      <td>10/19/17 18:14</td>\n",
       "      <td>Lots of interest in my bill with Senators Warn...</td>\n",
       "      <td>https://twitter.com/amyklobuchar/status/921077...</td>\n",
       "      <td>36</td>\n",
       "      <td>227</td>\n",
       "      <td>932</td>\n",
       "      <td>amyklobuchar</td>\n",
       "      <td>K000367</td>\n",
       "      <td>D</td>\n",
       "      <td>MN</td>\n",
       "    </tr>\n",
       "    <tr>\n",
       "      <th>3</th>\n",
       "      <td>10/19/17 18:04</td>\n",
       "      <td>Today's the day @MarkWarner, @SenJohnMcCain &amp;a...</td>\n",
       "      <td>https://twitter.com/amyklobuchar/status/921074...</td>\n",
       "      <td>17</td>\n",
       "      <td>167</td>\n",
       "      <td>550</td>\n",
       "      <td>amyklobuchar</td>\n",
       "      <td>K000367</td>\n",
       "      <td>D</td>\n",
       "      <td>MN</td>\n",
       "    </tr>\n",
       "    <tr>\n",
       "      <th>4</th>\n",
       "      <td>10/19/17 16:33</td>\n",
       "      <td>.@MarkWarner, @SenJohnMcCain &amp;amp; I put toget...</td>\n",
       "      <td>https://twitter.com/amyklobuchar/status/921051...</td>\n",
       "      <td>31</td>\n",
       "      <td>279</td>\n",
       "      <td>893</td>\n",
       "      <td>amyklobuchar</td>\n",
       "      <td>K000367</td>\n",
       "      <td>D</td>\n",
       "      <td>MN</td>\n",
       "    </tr>\n",
       "  </tbody>\n",
       "</table>\n",
       "</div>"
      ],
      "text/plain": [
       "       created_at                                               text  \\\n",
       "0  10/19/17 21:47  We released bipartisan healthcare bill today &...   \n",
       "1  10/19/17 18:48  I spoke with @Morning_Joe team abt #HonestAds ...   \n",
       "2  10/19/17 18:14  Lots of interest in my bill with Senators Warn...   \n",
       "3  10/19/17 18:04  Today's the day @MarkWarner, @SenJohnMcCain &a...   \n",
       "4  10/19/17 16:33  .@MarkWarner, @SenJohnMcCain &amp; I put toget...   \n",
       "\n",
       "                                                 url  replies  retweets  \\\n",
       "0  https://twitter.com/amyklobuchar/status/921130...       21       129   \n",
       "1  https://twitter.com/amyklobuchar/status/921085...        8        46   \n",
       "2  https://twitter.com/amyklobuchar/status/921077...       36       227   \n",
       "3  https://twitter.com/amyklobuchar/status/921074...       17       167   \n",
       "4  https://twitter.com/amyklobuchar/status/921051...       31       279   \n",
       "\n",
       "   favorites          user bioguide_id party state  \n",
       "0        533  amyklobuchar     K000367     D    MN  \n",
       "1        150  amyklobuchar     K000367     D    MN  \n",
       "2        932  amyklobuchar     K000367     D    MN  \n",
       "3        550  amyklobuchar     K000367     D    MN  \n",
       "4        893  amyklobuchar     K000367     D    MN  "
      ]
     },
     "execution_count": 50,
     "metadata": {},
     "output_type": "execute_result"
    }
   ],
   "source": [
    "df.head()"
   ]
  },
  {
   "cell_type": "code",
   "execution_count": 71,
   "metadata": {},
   "outputs": [
    {
     "data": {
      "text/plain": [
       "{'a',\n",
       " 'about',\n",
       " 'above',\n",
       " 'after',\n",
       " 'again',\n",
       " 'against',\n",
       " 'ain',\n",
       " 'all',\n",
       " 'am',\n",
       " 'an',\n",
       " 'and',\n",
       " 'any',\n",
       " 'are',\n",
       " 'aren',\n",
       " \"aren't\",\n",
       " 'as',\n",
       " 'at',\n",
       " 'be',\n",
       " 'because',\n",
       " 'been',\n",
       " 'before',\n",
       " 'being',\n",
       " 'below',\n",
       " 'between',\n",
       " 'both',\n",
       " 'but',\n",
       " 'by',\n",
       " 'can',\n",
       " 'couldn',\n",
       " \"couldn't\",\n",
       " 'd',\n",
       " 'did',\n",
       " 'didn',\n",
       " \"didn't\",\n",
       " 'do',\n",
       " 'does',\n",
       " 'doesn',\n",
       " \"doesn't\",\n",
       " 'doing',\n",
       " 'don',\n",
       " \"don't\",\n",
       " 'down',\n",
       " 'during',\n",
       " 'each',\n",
       " 'few',\n",
       " 'for',\n",
       " 'from',\n",
       " 'further',\n",
       " 'had',\n",
       " 'hadn',\n",
       " \"hadn't\",\n",
       " 'has',\n",
       " 'hasn',\n",
       " \"hasn't\",\n",
       " 'have',\n",
       " 'haven',\n",
       " \"haven't\",\n",
       " 'having',\n",
       " 'he',\n",
       " 'her',\n",
       " 'here',\n",
       " 'hers',\n",
       " 'herself',\n",
       " 'him',\n",
       " 'himself',\n",
       " 'his',\n",
       " 'how',\n",
       " 'i',\n",
       " 'if',\n",
       " 'in',\n",
       " 'into',\n",
       " 'is',\n",
       " 'isn',\n",
       " \"isn't\",\n",
       " 'it',\n",
       " \"it's\",\n",
       " 'its',\n",
       " 'itself',\n",
       " 'just',\n",
       " 'll',\n",
       " 'm',\n",
       " 'ma',\n",
       " 'me',\n",
       " 'mightn',\n",
       " \"mightn't\",\n",
       " 'more',\n",
       " 'most',\n",
       " 'mustn',\n",
       " \"mustn't\",\n",
       " 'my',\n",
       " 'myself',\n",
       " 'needn',\n",
       " \"needn't\",\n",
       " 'no',\n",
       " 'nor',\n",
       " 'not',\n",
       " 'now',\n",
       " 'o',\n",
       " 'of',\n",
       " 'off',\n",
       " 'on',\n",
       " 'once',\n",
       " 'only',\n",
       " 'or',\n",
       " 'other',\n",
       " 'our',\n",
       " 'ours',\n",
       " 'ourselves',\n",
       " 'out',\n",
       " 'over',\n",
       " 'own',\n",
       " 're',\n",
       " 's',\n",
       " 'same',\n",
       " 'shan',\n",
       " \"shan't\",\n",
       " 'she',\n",
       " \"she's\",\n",
       " 'should',\n",
       " \"should've\",\n",
       " 'shouldn',\n",
       " \"shouldn't\",\n",
       " 'so',\n",
       " 'some',\n",
       " 'such',\n",
       " 't',\n",
       " 'than',\n",
       " 'that',\n",
       " \"that'll\",\n",
       " 'the',\n",
       " 'their',\n",
       " 'theirs',\n",
       " 'them',\n",
       " 'themselves',\n",
       " 'then',\n",
       " 'there',\n",
       " 'these',\n",
       " 'they',\n",
       " 'this',\n",
       " 'those',\n",
       " 'through',\n",
       " 'to',\n",
       " 'too',\n",
       " 'under',\n",
       " 'until',\n",
       " 'up',\n",
       " 've',\n",
       " 'very',\n",
       " 'was',\n",
       " 'wasn',\n",
       " \"wasn't\",\n",
       " 'we',\n",
       " 'were',\n",
       " 'weren',\n",
       " \"weren't\",\n",
       " 'what',\n",
       " 'when',\n",
       " 'where',\n",
       " 'which',\n",
       " 'while',\n",
       " 'who',\n",
       " 'whom',\n",
       " 'why',\n",
       " 'will',\n",
       " 'with',\n",
       " 'won',\n",
       " \"won't\",\n",
       " 'wouldn',\n",
       " \"wouldn't\",\n",
       " 'y',\n",
       " 'you',\n",
       " \"you'd\",\n",
       " \"you'll\",\n",
       " \"you're\",\n",
       " \"you've\",\n",
       " 'your',\n",
       " 'yours',\n",
       " 'yourself',\n",
       " 'yourselves'}"
      ]
     },
     "execution_count": 71,
     "metadata": {},
     "output_type": "execute_result"
    }
   ],
   "source": [
    "import nltk\n",
    "from nltk.corpus import stopwords\n",
    "set(stopwords.words('english'))"
   ]
  },
  {
   "cell_type": "code",
   "execution_count": 72,
   "metadata": {},
   "outputs": [
    {
     "data": {
      "text/plain": [
       "<WordListCorpusReader in '/home/azathoth/nltk_data/corpora/stopwords'>"
      ]
     },
     "execution_count": 72,
     "metadata": {},
     "output_type": "execute_result"
    }
   ],
   "source": [
    "stopwords"
   ]
  },
  {
   "cell_type": "code",
   "execution_count": 67,
   "metadata": {},
   "outputs": [],
   "source": [
    "from nltk.corpus import stopwords"
   ]
  },
  {
   "cell_type": "code",
   "execution_count": 70,
   "metadata": {},
   "outputs": [
    {
     "name": "stdout",
     "output_type": "stream",
     "text": [
      "showing info https://raw.githubusercontent.com/nltk/nltk_data/gh-pages/index.xml\n"
     ]
    },
    {
     "data": {
      "text/plain": [
       "True"
      ]
     },
     "execution_count": 70,
     "metadata": {},
     "output_type": "execute_result"
    }
   ],
   "source": [
    "import nltk\n",
    "nltk.download()"
   ]
  },
  {
   "cell_type": "code",
   "execution_count": 74,
   "metadata": {},
   "outputs": [
    {
     "name": "stdout",
     "output_type": "stream",
     "text": [
      "['This', 'is', 'a', 'sample', 'sentence', ',', 'showing', 'off', 'the', 'stop', 'words', 'filtration', '.']\n",
      "['This', 'sample', 'sentence', ',', 'showing', 'stop', 'words', 'filtration', '.']\n"
     ]
    }
   ],
   "source": [
    "from nltk.tokenize import word_tokenize \n",
    "  \n",
    "example_sent = \"This is a sample sentence, showing off the stop words filtration.\"\n",
    "  \n",
    "stop_words = set(stopwords.words('english')) \n",
    "  \n",
    "word_tokens = word_tokenize(example_sent) \n",
    "  \n",
    "filtered_sentence = [word for word in word_tokens if not w in stop_words] \n",
    "  \n",
    "# filtered_sentence = [] \n",
    "  \n",
    "# for w in word_tokens: \n",
    "#     if w not in stop_words: \n",
    "#         filtered_sentence.append(w) \n",
    "  \n",
    "print(word_tokens) \n",
    "print(filtered_sentence) "
   ]
  },
  {
   "cell_type": "code",
   "execution_count": null,
   "metadata": {},
   "outputs": [],
   "source": []
  }
 ],
 "metadata": {
  "kernelspec": {
   "display_name": "Python 3",
   "language": "python",
   "name": "python3"
  },
  "language_info": {
   "codemirror_mode": {
    "name": "ipython",
    "version": 3
   },
   "file_extension": ".py",
   "mimetype": "text/x-python",
   "name": "python",
   "nbconvert_exporter": "python",
   "pygments_lexer": "ipython3",
   "version": "3.7.6"
  }
 },
 "nbformat": 4,
 "nbformat_minor": 4
}
